{
 "cells": [
  {
   "cell_type": "markdown",
   "metadata": {},
   "source": [
    "# Feature Engineering For Time Series Data"
   ]
  },
  {
   "cell_type": "code",
   "execution_count": 2,
   "metadata": {},
   "outputs": [
    {
     "data": {
      "text/html": [
       "<div>\n",
       "<style scoped>\n",
       "    .dataframe tbody tr th:only-of-type {\n",
       "        vertical-align: middle;\n",
       "    }\n",
       "\n",
       "    .dataframe tbody tr th {\n",
       "        vertical-align: top;\n",
       "    }\n",
       "\n",
       "    .dataframe thead th {\n",
       "        text-align: right;\n",
       "    }\n",
       "</style>\n",
       "<table border=\"1\" class=\"dataframe\">\n",
       "  <thead>\n",
       "    <tr style=\"text-align: right;\">\n",
       "      <th></th>\n",
       "      <th>ID</th>\n",
       "      <th>Datetime</th>\n",
       "      <th>Count</th>\n",
       "    </tr>\n",
       "  </thead>\n",
       "  <tbody>\n",
       "    <tr>\n",
       "      <th>0</th>\n",
       "      <td>0</td>\n",
       "      <td>25-08-2012 00:00</td>\n",
       "      <td>8</td>\n",
       "    </tr>\n",
       "    <tr>\n",
       "      <th>1</th>\n",
       "      <td>1</td>\n",
       "      <td>25-08-2012 01:00</td>\n",
       "      <td>2</td>\n",
       "    </tr>\n",
       "    <tr>\n",
       "      <th>2</th>\n",
       "      <td>2</td>\n",
       "      <td>25-08-2012 02:00</td>\n",
       "      <td>6</td>\n",
       "    </tr>\n",
       "    <tr>\n",
       "      <th>3</th>\n",
       "      <td>3</td>\n",
       "      <td>25-08-2012 03:00</td>\n",
       "      <td>2</td>\n",
       "    </tr>\n",
       "    <tr>\n",
       "      <th>4</th>\n",
       "      <td>4</td>\n",
       "      <td>25-08-2012 04:00</td>\n",
       "      <td>2</td>\n",
       "    </tr>\n",
       "  </tbody>\n",
       "</table>\n",
       "</div>"
      ],
      "text/plain": [
       "   ID          Datetime  Count\n",
       "0   0  25-08-2012 00:00      8\n",
       "1   1  25-08-2012 01:00      2\n",
       "2   2  25-08-2012 02:00      6\n",
       "3   3  25-08-2012 03:00      2\n",
       "4   4  25-08-2012 04:00      2"
      ]
     },
     "execution_count": 2,
     "metadata": {},
     "output_type": "execute_result"
    }
   ],
   "source": [
    "import pandas as pd                       \n",
    "data = pd.read_csv('Train_SU63ISt.csv')\n",
    "data.head()"
   ]
  },
  {
   "cell_type": "markdown",
   "metadata": {},
   "source": [
    "Change the DateTime column format from object to a pandas' DateTime so it won't be treated as a categorical variable"
   ]
  },
  {
   "cell_type": "code",
   "execution_count": 3,
   "metadata": {},
   "outputs": [],
   "source": [
    "data['Datetime'] = pd.to_datetime(data['Datetime'],format='%d-%m-%Y %H:%M') "
   ]
  },
  {
   "cell_type": "markdown",
   "metadata": {},
   "source": [
    "We can capture seasonality in the time series by creating, month year, day of the week, etc.\n",
    "\n",
    "Having information about the day, month, year, etc. can be useful for forecasting the values."
   ]
  },
  {
   "cell_type": "code",
   "execution_count": 4,
   "metadata": {},
   "outputs": [
    {
     "data": {
      "text/html": [
       "<div>\n",
       "<style scoped>\n",
       "    .dataframe tbody tr th:only-of-type {\n",
       "        vertical-align: middle;\n",
       "    }\n",
       "\n",
       "    .dataframe tbody tr th {\n",
       "        vertical-align: top;\n",
       "    }\n",
       "\n",
       "    .dataframe thead th {\n",
       "        text-align: right;\n",
       "    }\n",
       "</style>\n",
       "<table border=\"1\" class=\"dataframe\">\n",
       "  <thead>\n",
       "    <tr style=\"text-align: right;\">\n",
       "      <th></th>\n",
       "      <th>ID</th>\n",
       "      <th>Datetime</th>\n",
       "      <th>Count</th>\n",
       "      <th>year</th>\n",
       "      <th>month</th>\n",
       "      <th>day</th>\n",
       "      <th>dayofweek_num</th>\n",
       "      <th>dayofweek_name</th>\n",
       "    </tr>\n",
       "  </thead>\n",
       "  <tbody>\n",
       "    <tr>\n",
       "      <th>0</th>\n",
       "      <td>0</td>\n",
       "      <td>2012-08-25 00:00:00</td>\n",
       "      <td>8</td>\n",
       "      <td>2012</td>\n",
       "      <td>8</td>\n",
       "      <td>25</td>\n",
       "      <td>5</td>\n",
       "      <td>Saturday</td>\n",
       "    </tr>\n",
       "    <tr>\n",
       "      <th>1</th>\n",
       "      <td>1</td>\n",
       "      <td>2012-08-25 01:00:00</td>\n",
       "      <td>2</td>\n",
       "      <td>2012</td>\n",
       "      <td>8</td>\n",
       "      <td>25</td>\n",
       "      <td>5</td>\n",
       "      <td>Saturday</td>\n",
       "    </tr>\n",
       "    <tr>\n",
       "      <th>2</th>\n",
       "      <td>2</td>\n",
       "      <td>2012-08-25 02:00:00</td>\n",
       "      <td>6</td>\n",
       "      <td>2012</td>\n",
       "      <td>8</td>\n",
       "      <td>25</td>\n",
       "      <td>5</td>\n",
       "      <td>Saturday</td>\n",
       "    </tr>\n",
       "    <tr>\n",
       "      <th>3</th>\n",
       "      <td>3</td>\n",
       "      <td>2012-08-25 03:00:00</td>\n",
       "      <td>2</td>\n",
       "      <td>2012</td>\n",
       "      <td>8</td>\n",
       "      <td>25</td>\n",
       "      <td>5</td>\n",
       "      <td>Saturday</td>\n",
       "    </tr>\n",
       "    <tr>\n",
       "      <th>4</th>\n",
       "      <td>4</td>\n",
       "      <td>2012-08-25 04:00:00</td>\n",
       "      <td>2</td>\n",
       "      <td>2012</td>\n",
       "      <td>8</td>\n",
       "      <td>25</td>\n",
       "      <td>5</td>\n",
       "      <td>Saturday</td>\n",
       "    </tr>\n",
       "  </tbody>\n",
       "</table>\n",
       "</div>"
      ],
      "text/plain": [
       "   ID            Datetime  Count  year  month  day  dayofweek_num  \\\n",
       "0   0 2012-08-25 00:00:00      8  2012      8   25              5   \n",
       "1   1 2012-08-25 01:00:00      2  2012      8   25              5   \n",
       "2   2 2012-08-25 02:00:00      6  2012      8   25              5   \n",
       "3   3 2012-08-25 03:00:00      2  2012      8   25              5   \n",
       "4   4 2012-08-25 04:00:00      2  2012      8   25              5   \n",
       "\n",
       "  dayofweek_name  \n",
       "0       Saturday  \n",
       "1       Saturday  \n",
       "2       Saturday  \n",
       "3       Saturday  \n",
       "4       Saturday  "
      ]
     },
     "execution_count": 4,
     "metadata": {},
     "output_type": "execute_result"
    }
   ],
   "source": [
    "data['year']=data['Datetime'].dt.year \n",
    "data['month']=data['Datetime'].dt.month \n",
    "data['day']=data['Datetime'].dt.day\n",
    "\n",
    "data['dayofweek_num']=data['Datetime'].dt.dayofweek  \n",
    "data['dayofweek_name']=data['Datetime'].dt.day_name()\n",
    "\n",
    "data.head()"
   ]
  },
  {
   "cell_type": "markdown",
   "metadata": {},
   "source": [
    "We can similarly extract hourly seasonality trends by creating 'hour' and 'minute' features"
   ]
  },
  {
   "cell_type": "code",
   "execution_count": 5,
   "metadata": {},
   "outputs": [
    {
     "data": {
      "text/html": [
       "<div>\n",
       "<style scoped>\n",
       "    .dataframe tbody tr th:only-of-type {\n",
       "        vertical-align: middle;\n",
       "    }\n",
       "\n",
       "    .dataframe tbody tr th {\n",
       "        vertical-align: top;\n",
       "    }\n",
       "\n",
       "    .dataframe thead th {\n",
       "        text-align: right;\n",
       "    }\n",
       "</style>\n",
       "<table border=\"1\" class=\"dataframe\">\n",
       "  <thead>\n",
       "    <tr style=\"text-align: right;\">\n",
       "      <th></th>\n",
       "      <th>ID</th>\n",
       "      <th>Datetime</th>\n",
       "      <th>Count</th>\n",
       "      <th>year</th>\n",
       "      <th>month</th>\n",
       "      <th>day</th>\n",
       "      <th>dayofweek_num</th>\n",
       "      <th>dayofweek_name</th>\n",
       "      <th>Hour</th>\n",
       "      <th>minute</th>\n",
       "    </tr>\n",
       "  </thead>\n",
       "  <tbody>\n",
       "    <tr>\n",
       "      <th>0</th>\n",
       "      <td>0</td>\n",
       "      <td>2012-08-25 00:00:00</td>\n",
       "      <td>8</td>\n",
       "      <td>2012</td>\n",
       "      <td>8</td>\n",
       "      <td>25</td>\n",
       "      <td>5</td>\n",
       "      <td>Saturday</td>\n",
       "      <td>0</td>\n",
       "      <td>0</td>\n",
       "    </tr>\n",
       "    <tr>\n",
       "      <th>1</th>\n",
       "      <td>1</td>\n",
       "      <td>2012-08-25 01:00:00</td>\n",
       "      <td>2</td>\n",
       "      <td>2012</td>\n",
       "      <td>8</td>\n",
       "      <td>25</td>\n",
       "      <td>5</td>\n",
       "      <td>Saturday</td>\n",
       "      <td>1</td>\n",
       "      <td>0</td>\n",
       "    </tr>\n",
       "    <tr>\n",
       "      <th>2</th>\n",
       "      <td>2</td>\n",
       "      <td>2012-08-25 02:00:00</td>\n",
       "      <td>6</td>\n",
       "      <td>2012</td>\n",
       "      <td>8</td>\n",
       "      <td>25</td>\n",
       "      <td>5</td>\n",
       "      <td>Saturday</td>\n",
       "      <td>2</td>\n",
       "      <td>0</td>\n",
       "    </tr>\n",
       "    <tr>\n",
       "      <th>3</th>\n",
       "      <td>3</td>\n",
       "      <td>2012-08-25 03:00:00</td>\n",
       "      <td>2</td>\n",
       "      <td>2012</td>\n",
       "      <td>8</td>\n",
       "      <td>25</td>\n",
       "      <td>5</td>\n",
       "      <td>Saturday</td>\n",
       "      <td>3</td>\n",
       "      <td>0</td>\n",
       "    </tr>\n",
       "    <tr>\n",
       "      <th>4</th>\n",
       "      <td>4</td>\n",
       "      <td>2012-08-25 04:00:00</td>\n",
       "      <td>2</td>\n",
       "      <td>2012</td>\n",
       "      <td>8</td>\n",
       "      <td>25</td>\n",
       "      <td>5</td>\n",
       "      <td>Saturday</td>\n",
       "      <td>4</td>\n",
       "      <td>0</td>\n",
       "    </tr>\n",
       "  </tbody>\n",
       "</table>\n",
       "</div>"
      ],
      "text/plain": [
       "   ID            Datetime  Count  year  month  day  dayofweek_num  \\\n",
       "0   0 2012-08-25 00:00:00      8  2012      8   25              5   \n",
       "1   1 2012-08-25 01:00:00      2  2012      8   25              5   \n",
       "2   2 2012-08-25 02:00:00      6  2012      8   25              5   \n",
       "3   3 2012-08-25 03:00:00      2  2012      8   25              5   \n",
       "4   4 2012-08-25 04:00:00      2  2012      8   25              5   \n",
       "\n",
       "  dayofweek_name  Hour  minute  \n",
       "0       Saturday     0       0  \n",
       "1       Saturday     1       0  \n",
       "2       Saturday     2       0  \n",
       "3       Saturday     3       0  \n",
       "4       Saturday     4       0  "
      ]
     },
     "execution_count": 5,
     "metadata": {},
     "output_type": "execute_result"
    }
   ],
   "source": [
    "data['Hour'] = data['Datetime'].dt.hour \n",
    "data['minute'] = data['Datetime'].dt.minute \n",
    "data.head()"
   ]
  },
  {
   "cell_type": "markdown",
   "metadata": {},
   "source": [
    "Since this is a time series, we can (should) have lagged target values as features"
   ]
  },
  {
   "cell_type": "code",
   "execution_count": 10,
   "metadata": {},
   "outputs": [
    {
     "data": {
      "text/html": [
       "<div>\n",
       "<style scoped>\n",
       "    .dataframe tbody tr th:only-of-type {\n",
       "        vertical-align: middle;\n",
       "    }\n",
       "\n",
       "    .dataframe tbody tr th {\n",
       "        vertical-align: top;\n",
       "    }\n",
       "\n",
       "    .dataframe thead th {\n",
       "        text-align: right;\n",
       "    }\n",
       "</style>\n",
       "<table border=\"1\" class=\"dataframe\">\n",
       "  <thead>\n",
       "    <tr style=\"text-align: right;\">\n",
       "      <th></th>\n",
       "      <th>Datetime</th>\n",
       "      <th>lag_1</th>\n",
       "      <th>lag_2</th>\n",
       "      <th>lag_3</th>\n",
       "      <th>lag_4</th>\n",
       "      <th>lag_5</th>\n",
       "      <th>lag_6</th>\n",
       "      <th>lag_7</th>\n",
       "      <th>Count</th>\n",
       "    </tr>\n",
       "  </thead>\n",
       "  <tbody>\n",
       "    <tr>\n",
       "      <th>0</th>\n",
       "      <td>2012-08-25 00:00:00</td>\n",
       "      <td>NaN</td>\n",
       "      <td>NaN</td>\n",
       "      <td>NaN</td>\n",
       "      <td>NaN</td>\n",
       "      <td>NaN</td>\n",
       "      <td>NaN</td>\n",
       "      <td>NaN</td>\n",
       "      <td>8</td>\n",
       "    </tr>\n",
       "    <tr>\n",
       "      <th>1</th>\n",
       "      <td>2012-08-25 01:00:00</td>\n",
       "      <td>8.0</td>\n",
       "      <td>NaN</td>\n",
       "      <td>NaN</td>\n",
       "      <td>NaN</td>\n",
       "      <td>NaN</td>\n",
       "      <td>NaN</td>\n",
       "      <td>NaN</td>\n",
       "      <td>2</td>\n",
       "    </tr>\n",
       "    <tr>\n",
       "      <th>2</th>\n",
       "      <td>2012-08-25 02:00:00</td>\n",
       "      <td>2.0</td>\n",
       "      <td>8.0</td>\n",
       "      <td>NaN</td>\n",
       "      <td>NaN</td>\n",
       "      <td>NaN</td>\n",
       "      <td>NaN</td>\n",
       "      <td>NaN</td>\n",
       "      <td>6</td>\n",
       "    </tr>\n",
       "    <tr>\n",
       "      <th>3</th>\n",
       "      <td>2012-08-25 03:00:00</td>\n",
       "      <td>6.0</td>\n",
       "      <td>2.0</td>\n",
       "      <td>8.0</td>\n",
       "      <td>NaN</td>\n",
       "      <td>NaN</td>\n",
       "      <td>NaN</td>\n",
       "      <td>NaN</td>\n",
       "      <td>2</td>\n",
       "    </tr>\n",
       "    <tr>\n",
       "      <th>4</th>\n",
       "      <td>2012-08-25 04:00:00</td>\n",
       "      <td>2.0</td>\n",
       "      <td>6.0</td>\n",
       "      <td>2.0</td>\n",
       "      <td>8.0</td>\n",
       "      <td>NaN</td>\n",
       "      <td>NaN</td>\n",
       "      <td>NaN</td>\n",
       "      <td>2</td>\n",
       "    </tr>\n",
       "    <tr>\n",
       "      <th>5</th>\n",
       "      <td>2012-08-25 05:00:00</td>\n",
       "      <td>2.0</td>\n",
       "      <td>2.0</td>\n",
       "      <td>6.0</td>\n",
       "      <td>2.0</td>\n",
       "      <td>8.0</td>\n",
       "      <td>NaN</td>\n",
       "      <td>NaN</td>\n",
       "      <td>2</td>\n",
       "    </tr>\n",
       "    <tr>\n",
       "      <th>6</th>\n",
       "      <td>2012-08-25 06:00:00</td>\n",
       "      <td>2.0</td>\n",
       "      <td>2.0</td>\n",
       "      <td>2.0</td>\n",
       "      <td>6.0</td>\n",
       "      <td>2.0</td>\n",
       "      <td>8.0</td>\n",
       "      <td>NaN</td>\n",
       "      <td>2</td>\n",
       "    </tr>\n",
       "    <tr>\n",
       "      <th>7</th>\n",
       "      <td>2012-08-25 07:00:00</td>\n",
       "      <td>2.0</td>\n",
       "      <td>2.0</td>\n",
       "      <td>2.0</td>\n",
       "      <td>2.0</td>\n",
       "      <td>6.0</td>\n",
       "      <td>2.0</td>\n",
       "      <td>8.0</td>\n",
       "      <td>2</td>\n",
       "    </tr>\n",
       "    <tr>\n",
       "      <th>8</th>\n",
       "      <td>2012-08-25 08:00:00</td>\n",
       "      <td>2.0</td>\n",
       "      <td>2.0</td>\n",
       "      <td>2.0</td>\n",
       "      <td>2.0</td>\n",
       "      <td>2.0</td>\n",
       "      <td>6.0</td>\n",
       "      <td>2.0</td>\n",
       "      <td>6</td>\n",
       "    </tr>\n",
       "    <tr>\n",
       "      <th>9</th>\n",
       "      <td>2012-08-25 09:00:00</td>\n",
       "      <td>6.0</td>\n",
       "      <td>2.0</td>\n",
       "      <td>2.0</td>\n",
       "      <td>2.0</td>\n",
       "      <td>2.0</td>\n",
       "      <td>2.0</td>\n",
       "      <td>6.0</td>\n",
       "      <td>2</td>\n",
       "    </tr>\n",
       "  </tbody>\n",
       "</table>\n",
       "</div>"
      ],
      "text/plain": [
       "             Datetime  lag_1  lag_2  lag_3  lag_4  lag_5  lag_6  lag_7  Count\n",
       "0 2012-08-25 00:00:00    NaN    NaN    NaN    NaN    NaN    NaN    NaN      8\n",
       "1 2012-08-25 01:00:00    8.0    NaN    NaN    NaN    NaN    NaN    NaN      2\n",
       "2 2012-08-25 02:00:00    2.0    8.0    NaN    NaN    NaN    NaN    NaN      6\n",
       "3 2012-08-25 03:00:00    6.0    2.0    8.0    NaN    NaN    NaN    NaN      2\n",
       "4 2012-08-25 04:00:00    2.0    6.0    2.0    8.0    NaN    NaN    NaN      2\n",
       "5 2012-08-25 05:00:00    2.0    2.0    6.0    2.0    8.0    NaN    NaN      2\n",
       "6 2012-08-25 06:00:00    2.0    2.0    2.0    6.0    2.0    8.0    NaN      2\n",
       "7 2012-08-25 07:00:00    2.0    2.0    2.0    2.0    6.0    2.0    8.0      2\n",
       "8 2012-08-25 08:00:00    2.0    2.0    2.0    2.0    2.0    6.0    2.0      6\n",
       "9 2012-08-25 09:00:00    6.0    2.0    2.0    2.0    2.0    2.0    6.0      2"
      ]
     },
     "execution_count": 10,
     "metadata": {},
     "output_type": "execute_result"
    }
   ],
   "source": [
    "data['lag_1'] = data['Count'].shift(1)\n",
    "data['lag_2'] = data['Count'].shift(2)\n",
    "data['lag_3'] = data['Count'].shift(3)\n",
    "data['lag_4'] = data['Count'].shift(4)\n",
    "data['lag_5'] = data['Count'].shift(5)\n",
    "data['lag_6'] = data['Count'].shift(6)\n",
    "data['lag_7'] = data['Count'].shift(7)\n",
    "\n",
    "data_reduced = data[['Datetime', 'lag_1', 'lag_2', 'lag_3', 'lag_4', 'lag_5', 'lag_6', 'lag_7', 'Count']]\n",
    "data_reduced.head(10)"
   ]
  },
  {
   "cell_type": "markdown",
   "metadata": {},
   "source": [
    "To pick the right number of lags we should look at the PACF (partial ACF) plot"
   ]
  },
  {
   "cell_type": "code",
   "execution_count": 14,
   "metadata": {},
   "outputs": [
    {
     "data": {
      "image/png": "[encoded data removed]",
      "text/plain": [
       "<Figure size 432x288 with 1 Axes>"
      ]
     },
     "execution_count": 14,
     "metadata": {},
     "output_type": "execute_result"
    },
    {
     "data": {
      "image/png": "[encoded data removed]",
      "text/plain": [
       "<Figure size 432x288 with 1 Axes>"
      ]
     },
     "metadata": {
      "needs_background": "light"
     },
     "output_type": "display_data"
    },
    {
     "data": {
      "image/png": "[encoded data removed]",
      "text/plain": [
       "<Figure size 432x288 with 1 Axes>"
      ]
     },
     "metadata": {
      "needs_background": "light"
     },
     "output_type": "display_data"
    }
   ],
   "source": [
    "from statsmodels.graphics.tsaplots import plot_acf, plot_pacf\n",
    "plot_acf(data['Count'], lags=50) \n",
    "plot_pacf(data['Count'], lags=50)"
   ]
  },
  {
   "cell_type": "markdown",
   "metadata": {},
   "source": [
    "Based on the domain knowledge you can come up with some feature that might be helpful, for example, mean of the last 5 lags:"
   ]
  },
  {
   "cell_type": "code",
   "execution_count": 18,
   "metadata": {},
   "outputs": [
    {
     "data": {
      "text/html": [
       "<div>\n",
       "<style scoped>\n",
       "    .dataframe tbody tr th:only-of-type {\n",
       "        vertical-align: middle;\n",
       "    }\n",
       "\n",
       "    .dataframe tbody tr th {\n",
       "        vertical-align: top;\n",
       "    }\n",
       "\n",
       "    .dataframe thead th {\n",
       "        text-align: right;\n",
       "    }\n",
       "</style>\n",
       "<table border=\"1\" class=\"dataframe\">\n",
       "  <thead>\n",
       "    <tr style=\"text-align: right;\">\n",
       "      <th></th>\n",
       "      <th>Datetime</th>\n",
       "      <th>rolling_mean</th>\n",
       "      <th>Count</th>\n",
       "    </tr>\n",
       "  </thead>\n",
       "  <tbody>\n",
       "    <tr>\n",
       "      <th>0</th>\n",
       "      <td>2012-08-25 00:00:00</td>\n",
       "      <td>NaN</td>\n",
       "      <td>8</td>\n",
       "    </tr>\n",
       "    <tr>\n",
       "      <th>1</th>\n",
       "      <td>2012-08-25 01:00:00</td>\n",
       "      <td>NaN</td>\n",
       "      <td>2</td>\n",
       "    </tr>\n",
       "    <tr>\n",
       "      <th>2</th>\n",
       "      <td>2012-08-25 02:00:00</td>\n",
       "      <td>NaN</td>\n",
       "      <td>6</td>\n",
       "    </tr>\n",
       "    <tr>\n",
       "      <th>3</th>\n",
       "      <td>2012-08-25 03:00:00</td>\n",
       "      <td>NaN</td>\n",
       "      <td>2</td>\n",
       "    </tr>\n",
       "    <tr>\n",
       "      <th>4</th>\n",
       "      <td>2012-08-25 04:00:00</td>\n",
       "      <td>4.0</td>\n",
       "      <td>2</td>\n",
       "    </tr>\n",
       "    <tr>\n",
       "      <th>5</th>\n",
       "      <td>2012-08-25 05:00:00</td>\n",
       "      <td>2.8</td>\n",
       "      <td>2</td>\n",
       "    </tr>\n",
       "    <tr>\n",
       "      <th>6</th>\n",
       "      <td>2012-08-25 06:00:00</td>\n",
       "      <td>2.8</td>\n",
       "      <td>2</td>\n",
       "    </tr>\n",
       "    <tr>\n",
       "      <th>7</th>\n",
       "      <td>2012-08-25 07:00:00</td>\n",
       "      <td>2.0</td>\n",
       "      <td>2</td>\n",
       "    </tr>\n",
       "    <tr>\n",
       "      <th>8</th>\n",
       "      <td>2012-08-25 08:00:00</td>\n",
       "      <td>2.8</td>\n",
       "      <td>6</td>\n",
       "    </tr>\n",
       "    <tr>\n",
       "      <th>9</th>\n",
       "      <td>2012-08-25 09:00:00</td>\n",
       "      <td>2.8</td>\n",
       "      <td>2</td>\n",
       "    </tr>\n",
       "  </tbody>\n",
       "</table>\n",
       "</div>"
      ],
      "text/plain": [
       "             Datetime  rolling_mean  Count\n",
       "0 2012-08-25 00:00:00           NaN      8\n",
       "1 2012-08-25 01:00:00           NaN      2\n",
       "2 2012-08-25 02:00:00           NaN      6\n",
       "3 2012-08-25 03:00:00           NaN      2\n",
       "4 2012-08-25 04:00:00           4.0      2\n",
       "5 2012-08-25 05:00:00           2.8      2\n",
       "6 2012-08-25 06:00:00           2.8      2\n",
       "7 2012-08-25 07:00:00           2.0      2\n",
       "8 2012-08-25 08:00:00           2.8      6\n",
       "9 2012-08-25 09:00:00           2.8      2"
      ]
     },
     "execution_count": 18,
     "metadata": {},
     "output_type": "execute_result"
    }
   ],
   "source": [
    "data['rolling_mean'] = data['Count'].rolling(window=5).mean()\n",
    "reduced = data[['Datetime', 'rolling_mean', 'Count']]\n",
    "reduced.head(10)"
   ]
  },
  {
   "cell_type": "markdown",
   "metadata": {},
   "source": [
    "For the traditional machine learning problems, we randomly select subsets of data for the validation and test sets. But in time series, each data point is dependent on its past values. Randomly shufflling the data does not work in this case. We should split the training and validation sets by tome sstamps, for example the last 20 percent of data in time domain (last 3 months) goes into valication set."
   ]
  },
  {
   "cell_type": "code",
   "execution_count": 19,
   "metadata": {},
   "outputs": [
    {
     "data": {
      "text/plain": [
       "(Timestamp('2012-08-25 00:00:00'),\n",
       " Timestamp('2014-09-25 23:00:00'),\n",
       " Timedelta('761 days 23:00:00'))"
      ]
     },
     "execution_count": 19,
     "metadata": {},
     "output_type": "execute_result"
    }
   ],
   "source": [
    "data['Datetime'].min(), data['Datetime'].max(), (data['Datetime'].max() -data['Datetime'].min())"
   ]
  },
  {
   "cell_type": "code",
   "execution_count": 20,
   "metadata": {},
   "outputs": [
    {
     "data": {
      "text/plain": [
       "((16056, 18), (2232, 18))"
      ]
     },
     "execution_count": 20,
     "metadata": {},
     "output_type": "execute_result"
    }
   ],
   "source": [
    "data.index = data.Datetime \n",
    "training_set = data.loc['2012-08-25':'2014-06-24'] \n",
    "validation_set = data.loc['2014-06-25':'2014-09-25'] \n",
    "training_set.shape, validation_set.shape"
   ]
  },
  {
   "cell_type": "code",
   "execution_count": null,
   "metadata": {},
   "outputs": [],
   "source": []
  }
 ],
 "metadata": {
  "kernelspec": {
   "display_name": "Python 3",
   "language": "python",
   "name": "python3"
  },
  "language_info": {
   "codemirror_mode": {
    "name": "ipython",
    "version": 3
   },
   "file_extension": ".py",
   "mimetype": "text/x-python",
   "name": "python",
   "nbconvert_exporter": "python",
   "pygments_lexer": "ipython3",
   "version": "3.7.6"
  }
 },
 "nbformat": 4,
 "nbformat_minor": 4
}
